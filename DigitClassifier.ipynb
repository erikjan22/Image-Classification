{
 "cells": [
  {
   "cell_type": "markdown",
   "metadata": {},
   "source": [
    "# Introduction "
   ]
  },
  {
   "cell_type": "markdown",
   "metadata": {},
   "source": [
    "The DigitClassifierDemo notebook illustrates how the image processing process works and features a training session where four parameters (average area, average perimeter, avergage aspect ratio and average convex hull area to real area ratio) were found. These will be used in the following notebook, where I attempt to classify the images of the MNIST test training test."
   ]
  },
  {
   "cell_type": "code",
   "execution_count": 1,
   "metadata": {},
   "outputs": [],
   "source": [
    "from mlxtend.data import loadlocal_mnist\n",
    "import numpy as np\n",
    "import matplotlib.pyplot as plt\n",
    "import cv2\n",
    "import statistics \n",
    "from timeit import default_timer as timer\n",
    "import random"
   ]
  },
  {
   "cell_type": "markdown",
   "metadata": {},
   "source": [
    "Select the MNIST test dataset:"
   ]
  },
  {
   "cell_type": "code",
   "execution_count": 2,
   "metadata": {},
   "outputs": [
    {
     "name": "stdout",
     "output_type": "stream",
     "text": [
      "There are a total of 10000 images in the test data set.\n"
     ]
    }
   ],
   "source": [
    "directory = '/home/erik/Documents/Image-Classification/'\n",
    "\n",
    "X, y = loadlocal_mnist(\n",
    "        images_path= directory + 't10k-images.idx3-ubyte', \n",
    "        labels_path= directory + 't10k-labels.idx1-ubyte')\n",
    "\n",
    "numberImages = len(y)\n",
    "print('There are a total of %s images in the test data set.' %(numberImages))"
   ]
  },
  {
   "cell_type": "markdown",
   "metadata": {},
   "source": [
    "If visual inspection for one of the raw images is needed, this can be done here:"
   ]
  },
  {
   "cell_type": "code",
   "execution_count": 3,
   "metadata": {},
   "outputs": [
    {
     "data": {
      "image/png": "[encoded data removed]",
      "text/plain": [
       "<Figure size 432x288 with 1 Axes>"
      ]
     },
     "metadata": {
      "needs_background": "light"
     },
     "output_type": "display_data"
    },
    {
     "name": "stdout",
     "output_type": "stream",
     "text": [
      "Index of image: 0, Label of image: 7\n"
     ]
    }
   ],
   "source": [
    "index = 0\n",
    "myimage = X[index].reshape((28,28))\n",
    "plt.imshow(myimage,'gray')\n",
    "plt.title('Display of an image from the training data set')\n",
    "plt.show() \n",
    "print('Index of image: %s, Label of image: %s' %(index, y[index]))"
   ]
  },
  {
   "cell_type": "markdown",
   "metadata": {},
   "source": [
    "# Random classification"
   ]
  },
  {
   "cell_type": "markdown",
   "metadata": {},
   "source": [
    "Before an attempt is made to classify the images from the MNIST test data set, a random classification in made. This entails that each of the images is classified using a random label from the list of possible digits."
   ]
  },
  {
   "cell_type": "code",
   "execution_count": 4,
   "metadata": {},
   "outputs": [
    {
     "name": "stdout",
     "output_type": "stream",
     "text": [
      "Number of samples: 10000, Number of errors: 9005, Accuracy: 0.0995\n",
      "Time it took for classification: 0.06 seconds\n"
     ]
    }
   ],
   "source": [
    "ErrorCount = 0\n",
    "resizing = 5\n",
    "numberSamples = numberImages\n",
    "\n",
    "startTime = timer()\n",
    "\n",
    "for index in range(0, numberSamples):\n",
    "    Guess = random.randint(0,9)\n",
    "    ActualLabel = y[index]\n",
    "    if ActualLabel != Guess:\n",
    "        ErrorCount += 1\n",
    "\n",
    "endTime = timer()\n",
    "    \n",
    "accuracy = (numberSamples-ErrorCount)/ numberSamples\n",
    "print('Number of samples: %s, Number of errors: %s, Accuracy: %s' %(numberSamples, ErrorCount, accuracy))\n",
    "\n",
    "print('Time it took for classification: %.2f seconds' %(endTime - startTime))"
   ]
  },
  {
   "cell_type": "markdown",
   "metadata": {},
   "source": [
    "For classification of all the images in the data set (10000 samples), the random classifier made 9005 errors, meaning it has an accuracy of about 10%."
   ]
  },
  {
   "cell_type": "markdown",
   "metadata": {},
   "source": [
    "# Traditional classification"
   ]
  },
  {
   "cell_type": "markdown",
   "metadata": {},
   "source": [
    "Classification Using the numberSamples variable the user can specify how many of the images from the test dataset they want to classify."
   ]
  },
  {
   "cell_type": "markdown",
   "metadata": {},
   "source": [
    "The four perimeters which will be used during the classification of some of the digits:"
   ]
  },
  {
   "cell_type": "code",
   "execution_count": 5,
   "metadata": {},
   "outputs": [],
   "source": [
    "# Retrieved from the Demo:\n",
    "\n",
    "Digits = [2,3,4,5,7]\n",
    "Areas = [3787.8, 3874.4, 3324.0, 3465.5, 3220.3]\n",
    "Perimeters = [450.8, 501.2, 435.5, 471.8, 411.8]\n",
    "AspectRatios = [1.0413, 1.1720, 1.2360, 1.1121, 1.2691]\n",
    "ConvexHullRatios = [0.5960, 0.5882, 0.6052, 0.6030, 0.5977]"
   ]
  },
  {
   "cell_type": "code",
   "execution_count": 6,
   "metadata": {},
   "outputs": [
    {
     "name": "stdout",
     "output_type": "stream",
     "text": [
      "Number of samples: 10000, Number of errors: 7182, Accuracy: 0.2818\n",
      "Time it took for classification: 12.47 seconds\n"
     ]
    }
   ],
   "source": [
    "ErrorCount = 0\n",
    "resizing = 5\n",
    "numberSamples = numberImages\n",
    "\n",
    "startTime = timer()\n",
    "\n",
    "for index in range(0, numberSamples):\n",
    "    # Gathering info abou the image:\n",
    "    Image0 = X[index]\n",
    "    Image = cv2.resize(Image0.reshape((28,28)),None, fx = resizing, fy = resizing, interpolation = cv2.INTER_LINEAR)\n",
    "    maxycoord = resizing * 28\n",
    "    tvalue = statistics.mean(Image0)\n",
    "    maxvalue = max(Image0)\n",
    "    ret,BinIm = cv2.threshold(Image,tvalue,maxvalue,cv2.THRESH_BINARY)\n",
    "    edged=cv2.Canny(BinIm, 10, 200)\n",
    "    (contours, _)=cv2.findContours(BinIm,cv2.RETR_LIST,cv2.CHAIN_APPROX_NONE)\n",
    "    \n",
    "    # Ensuring that a contour is not being build around a spot of noise:\n",
    "    if len(contours) > 1 and cv2.contourArea(contours[0]) < cv2.contourArea(contours[1]):\n",
    "        contours = contours[1:]\n",
    "    \n",
    "    if len(contours) > 2:\n",
    "        # Only for digit 8\n",
    "        Guess = 8\n",
    "        \n",
    "    elif len(contours) == 2:\n",
    "        # For digits 0, 6 and 9\n",
    "        innerArea = cv2.contourArea(contours[0])\n",
    "        totalArea = cv2.contourArea(contours[1])\n",
    "        realArea = totalArea - innerArea\n",
    "        if innerArea/realArea > 0.25:\n",
    "            # Only for digit 0\n",
    "            Guess = 0\n",
    "        else:\n",
    "            moments = cv2.moments(contours[0])\n",
    "            ycentroid = moments['m01']/moments['m00']\n",
    "            maxycoord = resizing * 28\n",
    "            if ycentroid/maxycoord < 0.5:\n",
    "                # Only for digit 9\n",
    "                Guess = 9\n",
    "            else:\n",
    "                # Only for digit 6\n",
    "                Guess = 6\n",
    "    else:\n",
    "        # For digits 1, 2, 3, 4, 5, 7\n",
    "        (startingx, startingy, width, height) = cv2.boundingRect(contours[0])\n",
    "        aspect_ratio = height / width\n",
    "        if aspect_ratio > 2.5:\n",
    "            # Only for digit 1\n",
    "            Guess = 1\n",
    "        else:\n",
    "            # For digits 2, 3, 4, 5, 7\n",
    "            DigitArea = cv2.contourArea(contours[0])\n",
    "            DigitPerimeter = cv2.arcLength(contours[0], True)\n",
    "            (startingx, startingy, width, height) = cv2.boundingRect(contours[0])\n",
    "            DigitAspectRatio = height / width\n",
    "            hull = cv2.convexHull(contours[0])\n",
    "            hullArea = cv2.contourArea(hull)\n",
    "            DigitConvexHullRatio = DigitArea/hullArea\n",
    "            \n",
    "            scores = len(Digits) * [None]\n",
    "            for currentIndex in range(0, len(Digits)):\n",
    "                error_area = ((Areas[currentIndex] - DigitArea)/Areas[currentIndex])**2\n",
    "                error_per = ((Perimeters[currentIndex] - DigitPerimeter)/Perimeters[currentIndex])**2\n",
    "                error_aspect = ((AspectRatios[currentIndex] - DigitAspectRatio)/AspectRatios[currentIndex])**2\n",
    "                error_aspect = ((ConvexHullRatios[currentIndex] - DigitConvexHullRatio)/ConvexHullRatios[currentIndex])**2\n",
    "                scores[currentIndex] = error_area+error_per+error_aspect\n",
    "                       \n",
    "            Guess = Digits[scores.index(min(scores))] \n",
    "            \n",
    "    ActualLabel = y[index]\n",
    "    if ActualLabel != Guess:\n",
    "        ErrorCount += 1\n",
    "    #print('Index: %3s, Actual label: %s, Guess: %s' %(index, ActualLabel, Guess))\n",
    "\n",
    "endTime = timer()\n",
    "    \n",
    "accuracy = (numberSamples-ErrorCount)/ numberSamples\n",
    "print('Number of samples: %s, Number of errors: %s, Accuracy: %s' %(numberSamples, ErrorCount, accuracy))\n",
    "\n",
    "print('Time it took for classification: %.2f seconds' %(endTime - startTime))"
   ]
  },
  {
   "cell_type": "markdown",
   "metadata": {},
   "source": [
    "For classification of all the images in the data set (10000 samples), the traditional classifier made 7182 errors, meaning it has an accuracy of about 28%."
   ]
  }
 ],
 "metadata": {
  "kernelspec": {
   "display_name": "Python 3",
   "language": "python",
   "name": "python3"
  },
  "language_info": {
   "codemirror_mode": {
    "name": "ipython",
    "version": 3
   },
   "file_extension": ".py",
   "mimetype": "text/x-python",
   "name": "python",
   "nbconvert_exporter": "python",
   "pygments_lexer": "ipython3",
   "version": "3.7.3"
  }
 },
 "nbformat": 4,
 "nbformat_minor": 2
}
