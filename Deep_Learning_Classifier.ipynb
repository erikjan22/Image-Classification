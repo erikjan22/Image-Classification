{
 "cells": [
  {
   "cell_type": "markdown",
   "metadata": {},
   "source": [
    "# Image classification through a Deep Learning model\n",
    "\n",
    "## Introduction\n",
    "Currently the favoured method of classifying image data is with Deep Learning networks. For this I'll be  using the TensorFlow machine learning platform for Python.\n",
    "\n",
    "The code presented below is mostly based on the instruction video by youtube user __sendex__, which is called _Deep Learning with Python, TensorFlow, and Keras tutorial_ and can be found here: https://www.youtube.com/watch?v=wQ8BIBpya2k"
   ]
  },
  {
   "cell_type": "code",
   "execution_count": 1,
   "metadata": {},
   "outputs": [
    {
     "name": "stdout",
     "output_type": "stream",
     "text": [
      "Tenserflow version: 2.1.0\n"
     ]
    }
   ],
   "source": [
    "import tensorflow as tf\n",
    "\n",
    "print('Tenserflow version: %s' %(tf.__version__))\n",
    "\n",
    "from mlxtend.data import loadlocal_mnist\n",
    "import numpy as np\n",
    "import matplotlib.pyplot as plt\n",
    "from timeit import default_timer as timer"
   ]
  },
  {
   "cell_type": "code",
   "execution_count": 2,
   "metadata": {},
   "outputs": [
    {
     "name": "stdout",
     "output_type": "stream",
     "text": [
      "There are a total of 60000 images in the training data set.\n",
      "There are a total of 10000 images in the test data set.\n",
      "There are a total of 10 classes: [0 1 2 3 4 5 6 7 8 9]\n"
     ]
    }
   ],
   "source": [
    "directory = '/home/erik/Documents/Image-Classification/'\n",
    "\n",
    "X_train, y_train = loadlocal_mnist(\n",
    "        images_path= directory + 'train-images.idx3-ubyte', \n",
    "        labels_path= directory + 'train-labels.idx1-ubyte')\n",
    "\n",
    "numberImages = len(y_train)\n",
    "print('There are a total of %s images in the training data set.' %(numberImages))\n",
    "\n",
    "X_test, y_test = loadlocal_mnist(\n",
    "        images_path= directory + 't10k-images.idx3-ubyte', \n",
    "        labels_path= directory + 't10k-labels.idx1-ubyte')\n",
    "\n",
    "numberImages = len(y_test)\n",
    "print('There are a total of %s images in the test data set.' %(numberImages))\n",
    "\n",
    "NrClasses = len(np.unique(y_train))\n",
    "print('There are a total of %s classes: %s' %(NrClasses, np.unique(y_train)))"
   ]
  },
  {
   "cell_type": "markdown",
   "metadata": {},
   "source": [
    "## Building the model\n",
    "\n",
    "First a model has to be created using the _keras_ format, which Tensorflow uses"
   ]
  },
  {
   "cell_type": "code",
   "execution_count": 3,
   "metadata": {},
   "outputs": [],
   "source": [
    "model = tf.keras.models.Sequential()\n",
    "\n",
    "# Use a flatter for the input layer.\n",
    "model.add(tf.keras.layers.Flatten())\n",
    "\n",
    "# We use two hidden layers\n",
    "NrUnits = 128  # Number of units in the hidden layer\n",
    "model.add(tf.keras.layers.Dense(NrUnits, activation=tf.nn.relu))  # using a relu activation function\n",
    "model.add(tf.keras.layers.Dense(NrUnits, activation=tf.nn.relu))\n",
    "\n",
    "# Add the output layer with the softmax for probability distribution of the outputs\n",
    "model.add(tf.keras.layers.Dense(NrClasses, activation=tf.nn.softmax))\n",
    "\n",
    "# Finishing up the creation of the Deep Learning model\n",
    "optimizerType = 'adam'\n",
    "lossType = 'sparse_categorical_crossentropy'\n",
    "model.compile(optimizer=optimizerType, loss=lossType, metrics=['accuracy'])"
   ]
  },
  {
   "cell_type": "markdown",
   "metadata": {},
   "source": [
    "## Training the model\n",
    "\n",
    "Now that a model has been created, it ccan be trained through a serries of epochs, which improve upon each other."
   ]
  },
  {
   "cell_type": "code",
   "execution_count": 4,
   "metadata": {},
   "outputs": [
    {
     "name": "stdout",
     "output_type": "stream",
     "text": [
      "Train on 60000 samples\n",
      "Epoch 1/3\n",
      "60000/60000 [==============================] - 8s 134us/sample - loss: 0.3331 - accuracy: 0.9029\n",
      "Epoch 2/3\n",
      "60000/60000 [==============================] - 8s 134us/sample - loss: 0.1378 - accuracy: 0.9578\n",
      "Epoch 3/3\n",
      "60000/60000 [==============================] - 4s 70us/sample - loss: 0.0929 - accuracy: 0.9714\n",
      "\n",
      "The training of the deep learning classifier takes 20.46161688999996 seconds\n"
     ]
    }
   ],
   "source": [
    "X_train = tf.keras.utils.normalize(X_train, axis=1)\n",
    "X_test = tf.keras.utils.normalize(X_test, axis=1)\n",
    "\n",
    "startTime = timer()\n",
    "\n",
    "model.fit(X_train, y_train, epochs =3)\n",
    "\n",
    "endTime = timer()\n",
    "\n",
    "print('\\nThe training of the deep learning classifier takes %s seconds' %(endTime - startTime))"
   ]
  },
  {
   "cell_type": "markdown",
   "metadata": {},
   "source": [
    "## Testing the model\n",
    "\n",
    "Finally, the accuracy of the trained model can found by using the model to classify the test data"
   ]
  },
  {
   "cell_type": "code",
   "execution_count": 5,
   "metadata": {},
   "outputs": [
    {
     "name": "stdout",
     "output_type": "stream",
     "text": [
      "10000/10000 [==============================] - 0s 46us/sample - loss: 0.0951 - accuracy: 0.9698\n",
      "\n",
      "The accuracy of the model when used on the test data is: 0.9698, with a loss of: 0.0951094494568184\n"
     ]
    }
   ],
   "source": [
    "Testloss, Testaccuracy = model.evaluate(X_test, y_test)\n",
    "\n",
    "print('\\nThe accuracy of the model when used on the test data is: %s, with a loss of: %s' % (Testaccuracy, Testloss))"
   ]
  }
 ],
 "metadata": {
  "kernelspec": {
   "display_name": "Python 3",
   "language": "python",
   "name": "python3"
  },
  "language_info": {
   "codemirror_mode": {
    "name": "ipython",
    "version": 3
   },
   "file_extension": ".py",
   "mimetype": "text/x-python",
   "name": "python",
   "nbconvert_exporter": "python",
   "pygments_lexer": "ipython3",
   "version": "3.7.3"
  }
 },
 "nbformat": 4,
 "nbformat_minor": 2
}
