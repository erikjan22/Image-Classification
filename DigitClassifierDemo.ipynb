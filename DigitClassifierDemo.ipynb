{
 "cells": [
  {
   "cell_type": "markdown",
   "metadata": {},
   "source": [
    "# Introduction"
   ]
  },
  {
   "cell_type": "markdown",
   "metadata": {},
   "source": [
    "This demo is meant to illustrate the steps in the image processing, which comprise of resizing and interpolating the images, creating a binary images through thesholding, using the Canny method to find the edges of the digit from the image and finally transforming this edge into a contour. This contour is then used to retrieve the features about the segmented objects, such as area and perimeter.\n",
    "\n",
    "Another approach often used in 'tradional' image processing for segmentation of objects is the distance transform followed by the watershed method. However, in opencv the watershed method seemed to have some issues with grayscale image, so I choose the above specified method for segmentation instead.\n",
    "\n",
    "The demo finishes with a short training session to find info about a number of perimeters which will be used in the main file for digit classification."
   ]
  },
  {
   "cell_type": "code",
   "execution_count": 1,
   "metadata": {},
   "outputs": [],
   "source": [
    "from mlxtend.data import loadlocal_mnist\n",
    "import numpy as np\n",
    "import matplotlib.pyplot as plt\n",
    "import cv2 # OpenCV (CV stands for Computer Vision) is a famous library for image processing \n",
    "import statistics "
   ]
  },
  {
   "cell_type": "markdown",
   "metadata": {},
   "source": [
    "Select the MNIST training dataset:"
   ]
  },
  {
   "cell_type": "code",
   "execution_count": 2,
   "metadata": {},
   "outputs": [],
   "source": [
    "directory = '/home/erik/Documents/Image-Classification/'\n",
    "\n",
    "X, y = loadlocal_mnist(\n",
    "        images_path= directory + 'train-images.idx3-ubyte', \n",
    "        labels_path= directory + 'train-labels.idx1-ubyte')"
   ]
  },
  {
   "cell_type": "code",
   "execution_count": 3,
   "metadata": {},
   "outputs": [
    {
     "name": "stdout",
     "output_type": "stream",
     "text": [
      "Dimensions of the dataset: 60000 x 784\n",
      "Dimensions of first image: 784\n",
      "This means that the images are 60000 images, each with with 28 x 28 cells\n"
     ]
    }
   ],
   "source": [
    "print('Dimensions of the dataset: %s x %s' % (X.shape[0], X.shape[1]))\n",
    "#print('\\n1st row', X[0])\n",
    "print('Dimensions of first image: %s' % (X[0].shape[0]))\n",
    "\n",
    "print('This means that the images are %s images, each with with 28 x 28 cells' % (X.shape[0]))"
   ]
  },
  {
   "cell_type": "code",
   "execution_count": 4,
   "metadata": {},
   "outputs": [
    {
     "name": "stdout",
     "output_type": "stream",
     "text": [
      "Digits:  0 1 2 3 4 5 6 7 8 9\n",
      "labels: [0 1 2 3 4 5 6 7 8 9]\n",
      "Class distribution: [5923 6742 5958 6131 5842 5421 5918 6265 5851 5949]\n"
     ]
    }
   ],
   "source": [
    "print('Digits:  0 1 2 3 4 5 6 7 8 9')\n",
    "print('labels: %s' % np.unique(y))\n",
    "print('Class distribution: %s' % np.bincount(y))"
   ]
  },
  {
   "cell_type": "markdown",
   "metadata": {},
   "source": [
    "Here we can have a look at the raw, unprocessed images in the data set:"
   ]
  },
  {
   "cell_type": "code",
   "execution_count": 5,
   "metadata": {},
   "outputs": [
    {
     "data": {
      "image/png": "[encoded data removed]",
      "text/plain": [
       "<Figure size 432x288 with 1 Axes>"
      ]
     },
     "metadata": {
      "needs_background": "light"
     },
     "output_type": "display_data"
    },
    {
     "name": "stdout",
     "output_type": "stream",
     "text": [
      "Index of image: 0, Label of image: 5\n"
     ]
    },
    {
     "data": {
      "image/png": "[encoded data removed]",
      "text/plain": [
       "<Figure size 432x288 with 1 Axes>"
      ]
     },
     "metadata": {
      "needs_background": "light"
     },
     "output_type": "display_data"
    },
    {
     "name": "stdout",
     "output_type": "stream",
     "text": [
      "Index of image: 1, Label of image: 0\n"
     ]
    },
    {
     "data": {
      "image/png": "[encoded data removed]",
      "text/plain": [
       "<Figure size 432x288 with 1 Axes>"
      ]
     },
     "metadata": {
      "needs_background": "light"
     },
     "output_type": "display_data"
    },
    {
     "name": "stdout",
     "output_type": "stream",
     "text": [
      "Index of image: 2, Label of image: 4\n"
     ]
    }
   ],
   "source": [
    "NrOfImagesToShow = 3\n",
    "\n",
    "for i in range(0,NrOfImagesToShow):\n",
    "    myimage = X[i].reshape((28,28))\n",
    "    plt.imshow(myimage,'gray')\n",
    "    plt.show() \n",
    "    print('Index of image: %s, Label of image: %s' %(i, y[i]))"
   ]
  },
  {
   "cell_type": "markdown",
   "metadata": {},
   "source": [
    "# Image processing"
   ]
  },
  {
   "cell_type": "markdown",
   "metadata": {},
   "source": [
    "Resize the image and use the Bilinear Interpolation method:"
   ]
  },
  {
   "cell_type": "code",
   "execution_count": 6,
   "metadata": {},
   "outputs": [
    {
     "data": {
      "image/png": "[encoded data removed]",
      "text/plain": [
       "<Figure size 432x288 with 1 Axes>"
      ]
     },
     "metadata": {
      "needs_background": "light"
     },
     "output_type": "display_data"
    }
   ],
   "source": [
    "ImageIndex = 0  # Here you can choose which image you want to select\n",
    "\n",
    "Image0 = X[ImageIndex]\n",
    "\n",
    "# Make the image five times as big and use Bilinear Interpolation method\n",
    "resizing = 5\n",
    "Image = cv2.resize(Image0.reshape((28,28)),None, fx = resizing, fy = resizing, interpolation = cv2.INTER_LINEAR)\n",
    "\n",
    "maxycoord = resizing * 28  # Will be used later on\n",
    "\n",
    "plt.imshow(Image,'gray')\n",
    "plt.title('Image after interpolation')\n",
    "plt.show() "
   ]
  },
  {
   "cell_type": "markdown",
   "metadata": {},
   "source": [
    "Global thresholding to creating a binary image:"
   ]
  },
  {
   "cell_type": "code",
   "execution_count": 7,
   "metadata": {},
   "outputs": [
    {
     "name": "stdout",
     "output_type": "stream",
     "text": [
      "Pixel intensity threshold value: 35\n"
     ]
    },
    {
     "data": {
      "image/png": "[encoded data removed]",
      "text/plain": [
       "<Figure size 432x288 with 1 Axes>"
      ]
     },
     "metadata": {
      "needs_background": "light"
     },
     "output_type": "display_data"
    }
   ],
   "source": [
    "tvalue = statistics.mean(Image0)  # For the threshold value I'm using the mean of the pixel values\n",
    "maxvalue = max(Image0)            # The maximum value present in the image\n",
    "\n",
    "print('Pixel intensity threshold value: %s' %(tvalue))\n",
    "\n",
    "ret,BinIm = cv2.threshold(Image,tvalue,maxvalue,cv2.THRESH_BINARY)\n",
    "\n",
    "plt.imshow(BinIm,'gray')\n",
    "plt.title('Binary image')\n",
    "plt.show()"
   ]
  },
  {
   "cell_type": "markdown",
   "metadata": {},
   "source": [
    "Create an edge and then a contour around the object:"
   ]
  },
  {
   "cell_type": "code",
   "execution_count": 8,
   "metadata": {},
   "outputs": [
    {
     "data": {
      "image/png": "[encoded data removed]",
      "text/plain": [
       "<Figure size 432x288 with 1 Axes>"
      ]
     },
     "metadata": {
      "needs_background": "light"
     },
     "output_type": "display_data"
    },
    {
     "name": "stdout",
     "output_type": "stream",
     "text": [
      "Numbers of contours found= 1\n"
     ]
    }
   ],
   "source": [
    "edged=cv2.Canny(BinIm, 10, 200)\n",
    "\n",
    "plt.imshow(edged, 'gray')\n",
    "plt.title('Edge of the binary image.')\n",
    "plt.show()\n",
    "\n",
    "(contours, _)=cv2.findContours(BinIm,cv2.RETR_LIST,cv2.CHAIN_APPROX_NONE)\n",
    "\n",
    "print('Numbers of contours found= ' + str(len(contours)))"
   ]
  },
  {
   "cell_type": "markdown",
   "metadata": {},
   "source": [
    "# Descriptors"
   ]
  },
  {
   "cell_type": "markdown",
   "metadata": {},
   "source": [
    "A number of descriptors of the object:"
   ]
  },
  {
   "cell_type": "code",
   "execution_count": 9,
   "metadata": {},
   "outputs": [
    {
     "name": "stdout",
     "output_type": "stream",
     "text": [
      "Area: 3781.5\n",
      "Perimeter: 501.88939011096954\n",
      "Width: 102, Height: 104, Aspect ratio: 1.0196078431372548\n"
     ]
    }
   ],
   "source": [
    "if len(contours) > 2:\n",
    "    # Only for digit 8\n",
    "    innerArea1 = cv2.contourArea(contours[0])\n",
    "    innerArea2 = cv2.contourArea(contours[1])\n",
    "    totalArea = cv2.contourArea(contours[2])\n",
    "    realArea = totalArea - innerArea1 - innerArea2\n",
    "    print('First inner area: %s, Second inner area: %s, Total area: %s, Actual area: %s' %(innerArea1, innerArea2, \n",
    "                                                                                           totalArea, realArea))\n",
    "    \n",
    "    contour = contours[2]\n",
    "\n",
    "elif len(contours) == 2:\n",
    "    # For digits 0, 6 and 9\n",
    "    innerArea = cv2.contourArea(contours[0])\n",
    "    totalArea = cv2.contourArea(contours[1])\n",
    "    realArea = totalArea - innerArea\n",
    "    print('Inner area: %s, Total area: %s, Actual area: %s' %(innerArea, totalArea, realArea))\n",
    "    \n",
    "    moments = cv2.moments(contours[0])\n",
    "    xcentroid = moments['m10']/moments['m00']\n",
    "    ycentroid = moments['m01']/moments['m00']\n",
    "    print('xcentroid of inner area: %s, ycentroid of inner area: %s' %(xcentroid, ycentroid))\n",
    "    print('Relative positioning on y scale: %s' %(ycentroid/maxycoord))\n",
    "    \n",
    "    contour = contours[1]\n",
    "    \n",
    "else:\n",
    "    # For digits 1, 2, 3, 4, 5, 7\n",
    "    realArea = cv2.contourArea(contours[0])\n",
    "    print('Area: %s' %(realArea))\n",
    "    \n",
    "    contour = contours[0]\n",
    "    \n",
    "#Calculates a contour perimeter or a curve length.\n",
    "perimeter = cv2.arcLength(contour, True)\n",
    "print('Perimeter: %s' %(perimeter))\n",
    "              \n",
    "#Calculate the width, height and asepct ratio\n",
    "rect = cv2.boundingRect(contour)\n",
    "(startingx, startingy, width, height) = rect\n",
    "aspect_ratio = height / width\n",
    "print('Width: %s, Height: %s, Aspect ratio: %s' %(width, height, aspect_ratio))    "
   ]
  },
  {
   "cell_type": "markdown",
   "metadata": {},
   "source": [
    "One more descriptor of the object, using the convex hull:"
   ]
  },
  {
   "cell_type": "code",
   "execution_count": 10,
   "metadata": {},
   "outputs": [
    {
     "name": "stdout",
     "output_type": "stream",
     "text": [
      "Area of the hull: 7354.5, Real area to convex hull area ratio: 0.514174994901081\n"
     ]
    },
    {
     "data": {
      "image/png": "[encoded data removed]",
      "text/plain": [
       "<Figure size 432x288 with 1 Axes>"
      ]
     },
     "metadata": {
      "needs_background": "light"
     },
     "output_type": "display_data"
    }
   ],
   "source": [
    "hull = cv2.convexHull(contour)\n",
    "hullArea = cv2.contourArea(hull)\n",
    "\n",
    "result = cv2.drawContours(0*edged, [hull], -1, 1)\n",
    "\n",
    "print('Area of the hull: %s, Real area to convex hull area ratio: %s' %(hullArea, realArea/hullArea))\n",
    "\n",
    "plt.imshow(result, 'gray')\n",
    "plt.title('Edge of the convex hull.')\n",
    "plt.show()"
   ]
  },
  {
   "cell_type": "markdown",
   "metadata": {},
   "source": [
    "# Training parameters"
   ]
  },
  {
   "cell_type": "markdown",
   "metadata": {},
   "source": [
    "For the digits 0, 1, 6, 7, 8 and 9 we can asume with relative safety that classification will be done succesfully based on a single shape feature, whether that be the number of countours like in the case of digit 8, or the inner area to total area ratio like in the case of digit 0.\n",
    "\n",
    "However, the remaining digits 2, 3, 4, 5 and 7 don't have any of these distinguishing features. So instead we'll use a number of images from the training data for each of the digits, to find an average value for the area, perimiter, aspect ratio and convex hull area ratio for these digits.\n",
    "\n",
    "We use the first 50 samples encountered of each of the digits to train the four parameters."
   ]
  },
  {
   "cell_type": "code",
   "execution_count": 11,
   "metadata": {},
   "outputs": [
    {
     "name": "stdout",
     "output_type": "stream",
     "text": [
      "\n",
      "For digit 2, the following parameter values were collected: \n",
      "Area: 3787.8, Perimeter: 450.8, Aspect ratio: 1.0413, Convex hull area ratio: 0.5960\n",
      "\n",
      "For digit 3, the following parameter values were collected: \n",
      "Area: 3874.4, Perimeter: 501.2, Aspect ratio: 1.1720, Convex hull area ratio: 0.5882\n",
      "\n",
      "For digit 4, the following parameter values were collected: \n",
      "Area: 3324.0, Perimeter: 435.5, Aspect ratio: 1.2360, Convex hull area ratio: 0.6052\n",
      "\n",
      "For digit 5, the following parameter values were collected: \n",
      "Area: 3465.5, Perimeter: 471.8, Aspect ratio: 1.1121, Convex hull area ratio: 0.6030\n",
      "\n",
      "For digit 7, the following parameter values were collected: \n",
      "Area: 3220.3, Perimeter: 411.8, Aspect ratio: 1.2691, Convex hull area ratio: 0.5977\n"
     ]
    }
   ],
   "source": [
    "nrSamples = 50\n",
    "\n",
    "index = 0\n",
    "counter_2 = 0; AreaSum_2 = 0; PerimeterSum_2 = 0; AspectRatioSum_2 = 0; ConvexHullRatioSum_2 = 0\n",
    "counter_3 = 0; AreaSum_3 = 0; PerimeterSum_3 = 0; AspectRatioSum_3 = 0; ConvexHullRatioSum_3 = 0\n",
    "counter_4 = 0; AreaSum_4 = 0; PerimeterSum_4 = 0; AspectRatioSum_4 = 0; ConvexHullRatioSum_4 = 0\n",
    "counter_5 = 0; AreaSum_5 = 0; PerimeterSum_5 = 0; AspectRatioSum_5 = 0; ConvexHullRatioSum_5 = 0\n",
    "counter_7 = 0; AreaSum_7 = 0; PerimeterSum_7 = 0; AspectRatioSum_7 = 0; ConvexHullRatioSum_7 = 0\n",
    "\n",
    "finished = False\n",
    "\n",
    "while not finished:\n",
    "    if y[index] == 2 or y[index] == 3 or y[index] == 4 or y[index] == 5 or y[index] == 7: \n",
    "        # Gathering info:\n",
    "        Image0 = X[index]\n",
    "        resizing = 5\n",
    "        Image = cv2.resize(Image0.reshape((28,28)),None, fx = resizing, fy = resizing, interpolation = cv2.INTER_LINEAR)\n",
    "        maxycoord = resizing * 28\n",
    "        tvalue = statistics.mean(Image0)\n",
    "        maxvalue = max(Image0)\n",
    "        ret,BinIm = cv2.threshold(Image,tvalue,maxvalue,cv2.THRESH_BINARY)\n",
    "        edged=cv2.Canny(BinIm, 10, 200)\n",
    "        (contours, _)=cv2.findContours(BinIm,cv2.RETR_LIST,cv2.CHAIN_APPROX_NONE)\n",
    "        \n",
    "        # If somehow a digit somehow has multiple contours, which sometimes happens with the hand drawn digits, then skip it\n",
    "        if len(contours) > 1:\n",
    "            index += 1\n",
    "            continue\n",
    "\n",
    "        DigitArea = cv2.contourArea(contours[0])\n",
    "        DigitPerimeter = cv2.arcLength(contours[0], True)\n",
    "        (startingx, startingy, width, height) = cv2.boundingRect(contours[0])\n",
    "        DigitAspectRatio = height / width\n",
    "        hull = cv2.convexHull(contours[0])\n",
    "        hullArea = cv2.contourArea(hull)\n",
    "        DigitConvexHullRatio = DigitArea/hullArea\n",
    "\n",
    "        if y[index] == 2:\n",
    "            if counter_2 != nrSamples:\n",
    "                AreaSum_2 += DigitArea; PerimeterSum_2 += DigitPerimeter\n",
    "                AspectRatioSum_2 += DigitAspectRatio; ConvexHullRatioSum_2 += DigitConvexHullRatio\n",
    "                counter_2 += 1\n",
    "                \n",
    "        if y[index] == 3:\n",
    "            if counter_3 != nrSamples:\n",
    "                AreaSum_3 += DigitArea; PerimeterSum_3 += DigitPerimeter\n",
    "                AspectRatioSum_3 += DigitAspectRatio; ConvexHullRatioSum_3 += DigitConvexHullRatio\n",
    "                counter_3 += 1\n",
    "                                \n",
    "        if y[index] == 4:\n",
    "            if counter_4 != nrSamples:\n",
    "                AreaSum_4 += DigitArea; PerimeterSum_4 += DigitPerimeter\n",
    "                AspectRatioSum_4 += DigitAspectRatio; ConvexHullRatioSum_4 += DigitConvexHullRatio\n",
    "                counter_4 += 1\n",
    "                    \n",
    "        if y[index] == 5:\n",
    "            if counter_5 != nrSamples:\n",
    "                AreaSum_5 += DigitArea; PerimeterSum_5 += DigitPerimeter\n",
    "                AspectRatioSum_5 += DigitAspectRatio; ConvexHullRatioSum_5 += DigitConvexHullRatio  \n",
    "                counter_5 += 1\n",
    "                \n",
    "        if y[index] == 7:\n",
    "            if counter_7 != nrSamples:\n",
    "                AreaSum_7 += DigitArea; PerimeterSum_7 += DigitPerimeter\n",
    "                AspectRatioSum_7 += DigitAspectRatio; ConvexHullRatioSum_7 += DigitConvexHullRatio          \n",
    "                counter_7 += 1\n",
    "                    \n",
    "    # Preparing for a new input image    \n",
    "    index += 1\n",
    "    if counter_2 == nrSamples and counter_3 == nrSamples and counter_4 == nrSamples and counter_5 == nrSamples and counter_7 == nrSamples:\n",
    "        finished = True\n",
    "\n",
    "        \n",
    "# Averaging        \n",
    "AreaAverage_2 = AreaSum_2 / nrSamples; PerimeterAverage_2 = PerimeterSum_2 / nrSamples\n",
    "AspectRatioAverage_2 = AspectRatioSum_2 / nrSamples; ConvexHullRatioAverage_2 = ConvexHullRatioSum_2 / nrSamples\n",
    "\n",
    "AreaAverage_3 = AreaSum_3 / nrSamples; PerimeterAverage_3 = PerimeterSum_3 / nrSamples\n",
    "AspectRatioAverage_3 = AspectRatioSum_3 / nrSamples; ConvexHullRatioAverage_3 = ConvexHullRatioSum_3 / nrSamples\n",
    "\n",
    "AreaAverage_4 = AreaSum_4 / nrSamples; PerimeterAverage_4 = PerimeterSum_4 / nrSamples\n",
    "AspectRatioAverage_4 = AspectRatioSum_4 / nrSamples; ConvexHullRatioAverage_4 = ConvexHullRatioSum_4 / nrSamples\n",
    "\n",
    "AreaAverage_5 = AreaSum_5 / nrSamples; PerimeterAverage_5 = PerimeterSum_5 / nrSamples\n",
    "AspectRatioAverage_5 = AspectRatioSum_5 / nrSamples; ConvexHullRatioAverage_5 = ConvexHullRatioSum_5 / nrSamples\n",
    "\n",
    "AreaAverage_7 = AreaSum_7 / nrSamples; PerimeterAverage_7 = PerimeterSum_7 / nrSamples\n",
    "AspectRatioAverage_7 = AspectRatioSum_7 / nrSamples; ConvexHullRatioAverage_7 = ConvexHullRatioSum_7 / nrSamples\n",
    "\n",
    "# Printing the results\n",
    "print('\\nFor digit 2, the following parameter values were collected: \\nArea: %.1f, Perimeter: %.1f, Aspect ratio: %.4f, Convex hull area ratio: %.4f'\n",
    "      % (AreaAverage_2, PerimeterAverage_2, AspectRatioAverage_2, ConvexHullRatioAverage_2))\n",
    "\n",
    "print('\\nFor digit 3, the following parameter values were collected: \\nArea: %.1f, Perimeter: %.1f, Aspect ratio: %.4f, Convex hull area ratio: %.4f'\n",
    "      % (AreaAverage_3, PerimeterAverage_3, AspectRatioAverage_3, ConvexHullRatioAverage_3))\n",
    "\n",
    "print('\\nFor digit 4, the following parameter values were collected: \\nArea: %.1f, Perimeter: %.1f, Aspect ratio: %.4f, Convex hull area ratio: %.4f'\n",
    "      % (AreaAverage_4, PerimeterAverage_4, AspectRatioAverage_4, ConvexHullRatioAverage_4))\n",
    "\n",
    "print('\\nFor digit 5, the following parameter values were collected: \\nArea: %.1f, Perimeter: %.1f, Aspect ratio: %.4f, Convex hull area ratio: %.4f'\n",
    "      % (AreaAverage_5, PerimeterAverage_5, AspectRatioAverage_5, ConvexHullRatioAverage_5))\n",
    "\n",
    "print('\\nFor digit 7, the following parameter values were collected: \\nArea: %.1f, Perimeter: %.1f, Aspect ratio: %.4f, Convex hull area ratio: %.4f'\n",
    "      % (AreaAverage_7, PerimeterAverage_7, AspectRatioAverage_7, ConvexHullRatioAverage_7))\n"
   ]
  },
  {
   "cell_type": "markdown",
   "metadata": {},
   "source": [
    "The final submitted average values will depend on the number of samples used. i retreived the following result using 50 samples for each of the digits:\n",
    "\n",
    "Digits = [2,3,4,5,7]\n",
    "\n",
    "Areas = [3787.8, 3874.4, 3324.0, 3465.5, 3220.3]\n",
    "\n",
    "Perimeters = [450.8, 501.2, 435.5, 471.8, 411.8]\n",
    "\n",
    "AspectRatios = [1.0413, 1.1720, 1.2360, 1.1121, 1.2691]\n",
    "\n",
    "ConvexHullRatios = [0.5960, 0.5882, 0.6052, 0.6030, 0.5977]\n",
    "\n",
    "\n",
    "\n",
    "These values are hard coded into the main script, and will there be used for classification of all test data images."
   ]
  },
  {
   "cell_type": "code",
   "execution_count": null,
   "metadata": {},
   "outputs": [],
   "source": []
  },
  {
   "cell_type": "code",
   "execution_count": null,
   "metadata": {},
   "outputs": [],
   "source": []
  }
 ],
 "metadata": {
  "kernelspec": {
   "display_name": "Python 3",
   "language": "python",
   "name": "python3"
  },
  "language_info": {
   "codemirror_mode": {
    "name": "ipython",
    "version": 3
   },
   "file_extension": ".py",
   "mimetype": "text/x-python",
   "name": "python",
   "nbconvert_exporter": "python",
   "pygments_lexer": "ipython3",
   "version": "3.7.3"
  }
 },
 "nbformat": 4,
 "nbformat_minor": 2
}
